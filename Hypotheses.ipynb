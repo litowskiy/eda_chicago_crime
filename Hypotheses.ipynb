{
  "nbformat": 4,
  "nbformat_minor": 0,
  "metadata": {
    "colab": {
      "provenance": [],
      "collapsed_sections": [
        "FBR8cRwl0VVg",
        "HZEDrkan7DMK"
      ]
    },
    "kernelspec": {
      "name": "python3",
      "display_name": "Python 3"
    },
    "language_info": {
      "name": "python"
    }
  },
  "cells": [
    {
      "cell_type": "markdown",
      "source": [
        "# Импортирование данных"
      ],
      "metadata": {
        "id": "FBR8cRwl0VVg"
      }
    },
    {
      "cell_type": "code",
      "source": [
        "from google.colab import drive\n",
        "drive.mount('/content/drive')"
      ],
      "metadata": {
        "colab": {
          "base_uri": "https://localhost:8080/"
        },
        "id": "mr2USu0KAj3m",
        "outputId": "c2c3f7a4-43eb-456d-c4b1-4fc5eb966afd"
      },
      "execution_count": null,
      "outputs": [
        {
          "output_type": "stream",
          "name": "stdout",
          "text": [
            "Drive already mounted at /content/drive; to attempt to forcibly remount, call drive.mount(\"/content/drive\", force_remount=True).\n"
          ]
        }
      ]
    },
    {
      "cell_type": "code",
      "execution_count": null,
      "metadata": {
        "id": "f5-5oJ0-qvZC"
      },
      "outputs": [],
      "source": [
        "import numpy as np\n",
        "import pandas as pd\n",
        "import seaborn as sns\n",
        "import matplotlib.pyplot as plt\n",
        "import plotly.express as px\n",
        "import folium\n",
        "from folium.plugins import HeatMap\n",
        "\n",
        "df=pd.read_csv('/content/drive/MyDrive/Project_chicago/Crime Prediction in Chicago_Dataset (1).csv')"
      ]
    },
    {
      "cell_type": "markdown",
      "source": [
        "# Обработка датасета (работа с пропусками)"
      ],
      "metadata": {
        "id": "HZEDrkan7DMK"
      }
    },
    {
      "cell_type": "markdown",
      "source": [
        "Разделение даты на временные промежутки:"
      ],
      "metadata": {
        "id": "-kxLGUK7-eja"
      }
    },
    {
      "cell_type": "code",
      "source": [
        "df['Date'] = pd.to_datetime(df['Date'])\n",
        "df['Month'] = df['Date'].dt.month\n",
        "df['Day'] = df['Date'].dt.day\n",
        "df['Day_of_Week'] = df['Date'].dt.dayofweek\n",
        "df['Hour'] = df['Date'].dt.hour"
      ],
      "metadata": {
        "id": "jWXv_KBG7z2q"
      },
      "execution_count": null,
      "outputs": []
    },
    {
      "cell_type": "markdown",
      "source": [
        "Заполнение пропусков модой (для категориальных данных) или средним/медианным значением (для числовых данных):"
      ],
      "metadata": {
        "id": "4Z65SfcYByFa"
      }
    },
    {
      "cell_type": "code",
      "source": [
        "df['Location Description'].fillna(df['Location Description'].mode()[0],inplace=True)\n",
        "df['Latitude'].fillna(df['Latitude'].mean(),inplace=True)\n",
        "df['Longitude'].fillna(df['Longitude'].mean(),inplace=True)\n",
        "df['Ward'].fillna(df['Ward'].mean(),inplace=True)\n",
        "df['X Coordinate'].fillna(df['X Coordinate'].mean(),inplace=True)\n",
        "df['Y Coordinate'].fillna(df['Y Coordinate'].mean(),inplace=True)"
      ],
      "metadata": {
        "id": "fN1_tHrWAe8b",
        "colab": {
          "base_uri": "https://localhost:8080/"
        },
        "outputId": "7a154455-5d35-4bb9-e428-b8f662bf7a04"
      },
      "execution_count": null,
      "outputs": [
        {
          "output_type": "stream",
          "name": "stderr",
          "text": [
            "<ipython-input-147-3a1c996d860b>:1: FutureWarning: A value is trying to be set on a copy of a DataFrame or Series through chained assignment using an inplace method.\n",
            "The behavior will change in pandas 3.0. This inplace method will never work because the intermediate object on which we are setting values always behaves as a copy.\n",
            "\n",
            "For example, when doing 'df[col].method(value, inplace=True)', try using 'df.method({col: value}, inplace=True)' or df[col] = df[col].method(value) instead, to perform the operation inplace on the original object.\n",
            "\n",
            "\n",
            "  df['Location Description'].fillna(df['Location Description'].mode()[0],inplace=True)\n",
            "<ipython-input-147-3a1c996d860b>:2: FutureWarning: A value is trying to be set on a copy of a DataFrame or Series through chained assignment using an inplace method.\n",
            "The behavior will change in pandas 3.0. This inplace method will never work because the intermediate object on which we are setting values always behaves as a copy.\n",
            "\n",
            "For example, when doing 'df[col].method(value, inplace=True)', try using 'df.method({col: value}, inplace=True)' or df[col] = df[col].method(value) instead, to perform the operation inplace on the original object.\n",
            "\n",
            "\n",
            "  df['Latitude'].fillna(df['Latitude'].mean(),inplace=True)\n",
            "<ipython-input-147-3a1c996d860b>:3: FutureWarning: A value is trying to be set on a copy of a DataFrame or Series through chained assignment using an inplace method.\n",
            "The behavior will change in pandas 3.0. This inplace method will never work because the intermediate object on which we are setting values always behaves as a copy.\n",
            "\n",
            "For example, when doing 'df[col].method(value, inplace=True)', try using 'df.method({col: value}, inplace=True)' or df[col] = df[col].method(value) instead, to perform the operation inplace on the original object.\n",
            "\n",
            "\n",
            "  df['Longitude'].fillna(df['Longitude'].mean(),inplace=True)\n",
            "<ipython-input-147-3a1c996d860b>:4: FutureWarning: A value is trying to be set on a copy of a DataFrame or Series through chained assignment using an inplace method.\n",
            "The behavior will change in pandas 3.0. This inplace method will never work because the intermediate object on which we are setting values always behaves as a copy.\n",
            "\n",
            "For example, when doing 'df[col].method(value, inplace=True)', try using 'df.method({col: value}, inplace=True)' or df[col] = df[col].method(value) instead, to perform the operation inplace on the original object.\n",
            "\n",
            "\n",
            "  df['Ward'].fillna(df['Ward'].mean(),inplace=True)\n",
            "<ipython-input-147-3a1c996d860b>:5: FutureWarning: A value is trying to be set on a copy of a DataFrame or Series through chained assignment using an inplace method.\n",
            "The behavior will change in pandas 3.0. This inplace method will never work because the intermediate object on which we are setting values always behaves as a copy.\n",
            "\n",
            "For example, when doing 'df[col].method(value, inplace=True)', try using 'df.method({col: value}, inplace=True)' or df[col] = df[col].method(value) instead, to perform the operation inplace on the original object.\n",
            "\n",
            "\n",
            "  df['X Coordinate'].fillna(df['X Coordinate'].mean(),inplace=True)\n",
            "<ipython-input-147-3a1c996d860b>:6: FutureWarning: A value is trying to be set on a copy of a DataFrame or Series through chained assignment using an inplace method.\n",
            "The behavior will change in pandas 3.0. This inplace method will never work because the intermediate object on which we are setting values always behaves as a copy.\n",
            "\n",
            "For example, when doing 'df[col].method(value, inplace=True)', try using 'df.method({col: value}, inplace=True)' or df[col] = df[col].method(value) instead, to perform the operation inplace on the original object.\n",
            "\n",
            "\n",
            "  df['Y Coordinate'].fillna(df['Y Coordinate'].mean(),inplace=True)\n"
          ]
        }
      ]
    },
    {
      "cell_type": "code",
      "source": [
        "def set_daytime(hour):\n",
        "  if 23 <= hour or hour < 5:\n",
        "    return 'Night'\n",
        "  elif 5 <= hour < 12:\n",
        "    return 'Morning'\n",
        "  elif 12 <= hour < 17:\n",
        "    return 'Afternoon'\n",
        "  else:\n",
        "    return 'Evening'\n",
        "\n",
        "df['Time_of_Day'] = df['Hour'].apply(set_daytime)"
      ],
      "metadata": {
        "id": "UfvsBXcYDKsj"
      },
      "execution_count": null,
      "outputs": []
    },
    {
      "cell_type": "markdown",
      "source": [
        "# Построение матрицы корреляций для числовых переменных"
      ],
      "metadata": {
        "id": "_2nbn3SPz7G7"
      }
    },
    {
      "cell_type": "code",
      "source": [
        "plt.figure(figsize=(9,8))\n",
        "sns.heatmap(df.drop(columns=['ID', 'Arrest', 'Year', 'Domestic','Date','Day_of_Week','Month','Day']).corr(numeric_only = True), annot=True, fmt='.2f')\n",
        "plt.title('Correlation matrix of numerical variables', fontsize=11,fontweight='bold')\n",
        "plt.tick_params(labelsize=11)\n",
        "plt.tight_layout()\n",
        "plt.show()"
      ],
      "metadata": {
        "colab": {
          "base_uri": "https://localhost:8080/",
          "height": 807
        },
        "id": "PHWdYhm-v180",
        "outputId": "252b680b-a94c-4b37-b078-1d862a943e37"
      },
      "execution_count": null,
      "outputs": [
        {
          "output_type": "display_data",
          "data": {
            "text/plain": [
              "<Figure size 900x800 with 2 Axes>"
            ],
            "image/png": "[encoded data removed]"
          },
          "metadata": {}
        }
      ]
    },
    {
      "cell_type": "markdown",
      "source": [
        "Переменные Beat, District и Ward  имеют положительную корреляцию между собой (от 0.67 до 1). Почему же это так? Скорее всего преступления определенных типов совершаются в конкретных районах местности, за что и отвечают эти три переменные. Координаты по X и Y полностью коррелируют с широтой и долготой, что правда, ведь по сути они одно и то же. В приниципе, мы можем избавиться от колонок с широтой и долготой, для построения карты будем пользоваться переменными X Coordinate, Y Coordinate."
      ],
      "metadata": {
        "id": "tk6SXfrcMjo-"
      }
    },
    {
      "cell_type": "markdown",
      "source": [
        "# Построение гипотез"
      ],
      "metadata": {
        "id": "QzX-eYR9A7n2"
      }
    },
    {
      "cell_type": "code",
      "source": [
        "df.head()"
      ],
      "metadata": {
        "colab": {
          "base_uri": "https://localhost:8080/",
          "height": 340
        },
        "id": "J_Mp-Cn-BIYF",
        "outputId": "782c2549-a761-480a-a94b-53623ae689bb"
      },
      "execution_count": null,
      "outputs": [
        {
          "output_type": "execute_result",
          "data": {
            "text/plain": [
              "         ID Case Number                Date                   Block  IUCR  \\\n",
              "0  12592454    JF113025 2022-01-14 15:55:00       067XX S MORGAN ST  2826   \n",
              "1  12785595    JF346553 2022-08-05 21:00:00  072XX S UNIVERSITY AVE  1544   \n",
              "2  12808281    JF373517 2022-08-14 14:00:00     055XX W ARDMORE AVE  1562   \n",
              "3  12888104    JF469015 2022-11-10 03:47:00          072XX S MAY ST  1477   \n",
              "4  13209277    JG422539 2022-08-15 09:00:00    0000X W JACKSON BLVD   810   \n",
              "\n",
              "        Primary Type                       Description  \\\n",
              "0      OTHER OFFENSE    HARASSMENT BY ELECTRONIC MEANS   \n",
              "1        SEX OFFENSE    SEXUAL EXPLOITATION OF A CHILD   \n",
              "2        SEX OFFENSE  AGGRAVATED CRIMINAL SEXUAL ABUSE   \n",
              "3  WEAPONS VIOLATION        RECKLESS FIREARM DISCHARGE   \n",
              "4              THEFT                         OVER $500   \n",
              "\n",
              "           Location Description  Arrest  Domestic  ...  Year       Updated On  \\\n",
              "0                     RESIDENCE   False      True  ...  2022  9/14/2023 15:41   \n",
              "1                     APARTMENT    True     False  ...  2022  9/14/2023 15:41   \n",
              "2                     RESIDENCE   False     False  ...  2022  9/14/2023 15:41   \n",
              "3                        STREET   False     False  ...  2022  9/14/2023 15:41   \n",
              "4  COMMERCIAL / BUSINESS OFFICE   False     False  ...  2022  9/14/2023 15:43   \n",
              "\n",
              "    Latitude  Longitude                       Location  Month  Day  \\\n",
              "0  41.771782 -87.649437  (41.771782439, -87.649436929)      1   14   \n",
              "1  41.763338 -87.597001  (41.763337967, -87.597001131)      8    5   \n",
              "2  41.985875 -87.766404  (41.985875279, -87.766403857)      8   14   \n",
              "3  41.762615 -87.652840   (41.76261474, -87.652840463)     11   10   \n",
              "4  41.845612 -87.668599                            NaN      8   15   \n",
              "\n",
              "   Day_of_Week Hour  Time_of_Day  \n",
              "0            4   15    Afternoon  \n",
              "1            4   21      Evening  \n",
              "2            6   14    Afternoon  \n",
              "3            3    3        Night  \n",
              "4            0    9      Morning  \n",
              "\n",
              "[5 rows x 27 columns]"
            ],
            "text/html": [
              "\n",
              "  <div id=\"df-3eef7de2-63d1-4738-8347-c1a4cae13b9d\" class=\"colab-df-container\">\n",
              "    <div>\n",
              "<style scoped>\n",
              "    .dataframe tbody tr th:only-of-type {\n",
              "        vertical-align: middle;\n",
              "    }\n",
              "\n",
              "    .dataframe tbody tr th {\n",
              "        vertical-align: top;\n",
              "    }\n",
              "\n",
              "    .dataframe thead th {\n",
              "        text-align: right;\n",
              "    }\n",
              "</style>\n",
              "<table border=\"1\" class=\"dataframe\">\n",
              "  <thead>\n",
              "    <tr style=\"text-align: right;\">\n",
              "      <th></th>\n",
              "      <th>ID</th>\n",
              "      <th>Case Number</th>\n",
              "      <th>Date</th>\n",
              "      <th>Block</th>\n",
              "      <th>IUCR</th>\n",
              "      <th>Primary Type</th>\n",
              "      <th>Description</th>\n",
              "      <th>Location Description</th>\n",
              "      <th>Arrest</th>\n",
              "      <th>Domestic</th>\n",
              "      <th>...</th>\n",
              "      <th>Year</th>\n",
              "      <th>Updated On</th>\n",
              "      <th>Latitude</th>\n",
              "      <th>Longitude</th>\n",
              "      <th>Location</th>\n",
              "      <th>Month</th>\n",
              "      <th>Day</th>\n",
              "      <th>Day_of_Week</th>\n",
              "      <th>Hour</th>\n",
              "      <th>Time_of_Day</th>\n",
              "    </tr>\n",
              "  </thead>\n",
              "  <tbody>\n",
              "    <tr>\n",
              "      <th>0</th>\n",
              "      <td>12592454</td>\n",
              "      <td>JF113025</td>\n",
              "      <td>2022-01-14 15:55:00</td>\n",
              "      <td>067XX S MORGAN ST</td>\n",
              "      <td>2826</td>\n",
              "      <td>OTHER OFFENSE</td>\n",
              "      <td>HARASSMENT BY ELECTRONIC MEANS</td>\n",
              "      <td>RESIDENCE</td>\n",
              "      <td>False</td>\n",
              "      <td>True</td>\n",
              "      <td>...</td>\n",
              "      <td>2022</td>\n",
              "      <td>9/14/2023 15:41</td>\n",
              "      <td>41.771782</td>\n",
              "      <td>-87.649437</td>\n",
              "      <td>(41.771782439, -87.649436929)</td>\n",
              "      <td>1</td>\n",
              "      <td>14</td>\n",
              "      <td>4</td>\n",
              "      <td>15</td>\n",
              "      <td>Afternoon</td>\n",
              "    </tr>\n",
              "    <tr>\n",
              "      <th>1</th>\n",
              "      <td>12785595</td>\n",
              "      <td>JF346553</td>\n",
              "      <td>2022-08-05 21:00:00</td>\n",
              "      <td>072XX S UNIVERSITY AVE</td>\n",
              "      <td>1544</td>\n",
              "      <td>SEX OFFENSE</td>\n",
              "      <td>SEXUAL EXPLOITATION OF A CHILD</td>\n",
              "      <td>APARTMENT</td>\n",
              "      <td>True</td>\n",
              "      <td>False</td>\n",
              "      <td>...</td>\n",
              "      <td>2022</td>\n",
              "      <td>9/14/2023 15:41</td>\n",
              "      <td>41.763338</td>\n",
              "      <td>-87.597001</td>\n",
              "      <td>(41.763337967, -87.597001131)</td>\n",
              "      <td>8</td>\n",
              "      <td>5</td>\n",
              "      <td>4</td>\n",
              "      <td>21</td>\n",
              "      <td>Evening</td>\n",
              "    </tr>\n",
              "    <tr>\n",
              "      <th>2</th>\n",
              "      <td>12808281</td>\n",
              "      <td>JF373517</td>\n",
              "      <td>2022-08-14 14:00:00</td>\n",
              "      <td>055XX W ARDMORE AVE</td>\n",
              "      <td>1562</td>\n",
              "      <td>SEX OFFENSE</td>\n",
              "      <td>AGGRAVATED CRIMINAL SEXUAL ABUSE</td>\n",
              "      <td>RESIDENCE</td>\n",
              "      <td>False</td>\n",
              "      <td>False</td>\n",
              "      <td>...</td>\n",
              "      <td>2022</td>\n",
              "      <td>9/14/2023 15:41</td>\n",
              "      <td>41.985875</td>\n",
              "      <td>-87.766404</td>\n",
              "      <td>(41.985875279, -87.766403857)</td>\n",
              "      <td>8</td>\n",
              "      <td>14</td>\n",
              "      <td>6</td>\n",
              "      <td>14</td>\n",
              "      <td>Afternoon</td>\n",
              "    </tr>\n",
              "    <tr>\n",
              "      <th>3</th>\n",
              "      <td>12888104</td>\n",
              "      <td>JF469015</td>\n",
              "      <td>2022-11-10 03:47:00</td>\n",
              "      <td>072XX S MAY ST</td>\n",
              "      <td>1477</td>\n",
              "      <td>WEAPONS VIOLATION</td>\n",
              "      <td>RECKLESS FIREARM DISCHARGE</td>\n",
              "      <td>STREET</td>\n",
              "      <td>False</td>\n",
              "      <td>False</td>\n",
              "      <td>...</td>\n",
              "      <td>2022</td>\n",
              "      <td>9/14/2023 15:41</td>\n",
              "      <td>41.762615</td>\n",
              "      <td>-87.652840</td>\n",
              "      <td>(41.76261474, -87.652840463)</td>\n",
              "      <td>11</td>\n",
              "      <td>10</td>\n",
              "      <td>3</td>\n",
              "      <td>3</td>\n",
              "      <td>Night</td>\n",
              "    </tr>\n",
              "    <tr>\n",
              "      <th>4</th>\n",
              "      <td>13209277</td>\n",
              "      <td>JG422539</td>\n",
              "      <td>2022-08-15 09:00:00</td>\n",
              "      <td>0000X W JACKSON BLVD</td>\n",
              "      <td>810</td>\n",
              "      <td>THEFT</td>\n",
              "      <td>OVER $500</td>\n",
              "      <td>COMMERCIAL / BUSINESS OFFICE</td>\n",
              "      <td>False</td>\n",
              "      <td>False</td>\n",
              "      <td>...</td>\n",
              "      <td>2022</td>\n",
              "      <td>9/14/2023 15:43</td>\n",
              "      <td>41.845612</td>\n",
              "      <td>-87.668599</td>\n",
              "      <td>NaN</td>\n",
              "      <td>8</td>\n",
              "      <td>15</td>\n",
              "      <td>0</td>\n",
              "      <td>9</td>\n",
              "      <td>Morning</td>\n",
              "    </tr>\n",
              "  </tbody>\n",
              "</table>\n",
              "<p>5 rows × 27 columns</p>\n",
              "</div>\n",
              "    <div class=\"colab-df-buttons\">\n",
              "\n",
              "  <div class=\"colab-df-container\">\n",
              "    <button class=\"colab-df-convert\" onclick=\"convertToInteractive('df-3eef7de2-63d1-4738-8347-c1a4cae13b9d')\"\n",
              "            title=\"Convert this dataframe to an interactive table.\"\n",
              "            style=\"display:none;\">\n",
              "\n",
              "  <svg xmlns=\"http://www.w3.org/2000/svg\" height=\"24px\" viewBox=\"0 -960 960 960\">\n",
              "    <path d=\"M120-120v-720h720v720H120Zm60-500h600v-160H180v160Zm220 220h160v-160H400v160Zm0 220h160v-160H400v160ZM180-400h160v-160H180v160Zm440 0h160v-160H620v160ZM180-180h160v-160H180v160Zm440 0h160v-160H620v160Z\"/>\n",
              "  </svg>\n",
              "    </button>\n",
              "\n",
              "  <style>\n",
              "    .colab-df-container {\n",
              "      display:flex;\n",
              "      gap: 12px;\n",
              "    }\n",
              "\n",
              "    .colab-df-convert {\n",
              "      background-color: #E8F0FE;\n",
              "      border: none;\n",
              "      border-radius: 50%;\n",
              "      cursor: pointer;\n",
              "      display: none;\n",
              "      fill: #1967D2;\n",
              "      height: 32px;\n",
              "      padding: 0 0 0 0;\n",
              "      width: 32px;\n",
              "    }\n",
              "\n",
              "    .colab-df-convert:hover {\n",
              "      background-color: #E2EBFA;\n",
              "      box-shadow: 0px 1px 2px rgba(60, 64, 67, 0.3), 0px 1px 3px 1px rgba(60, 64, 67, 0.15);\n",
              "      fill: #174EA6;\n",
              "    }\n",
              "\n",
              "    .colab-df-buttons div {\n",
              "      margin-bottom: 4px;\n",
              "    }\n",
              "\n",
              "    [theme=dark] .colab-df-convert {\n",
              "      background-color: #3B4455;\n",
              "      fill: #D2E3FC;\n",
              "    }\n",
              "\n",
              "    [theme=dark] .colab-df-convert:hover {\n",
              "      background-color: #434B5C;\n",
              "      box-shadow: 0px 1px 3px 1px rgba(0, 0, 0, 0.15);\n",
              "      filter: drop-shadow(0px 1px 2px rgba(0, 0, 0, 0.3));\n",
              "      fill: #FFFFFF;\n",
              "    }\n",
              "  </style>\n",
              "\n",
              "    <script>\n",
              "      const buttonEl =\n",
              "        document.querySelector('#df-3eef7de2-63d1-4738-8347-c1a4cae13b9d button.colab-df-convert');\n",
              "      buttonEl.style.display =\n",
              "        google.colab.kernel.accessAllowed ? 'block' : 'none';\n",
              "\n",
              "      async function convertToInteractive(key) {\n",
              "        const element = document.querySelector('#df-3eef7de2-63d1-4738-8347-c1a4cae13b9d');\n",
              "        const dataTable =\n",
              "          await google.colab.kernel.invokeFunction('convertToInteractive',\n",
              "                                                    [key], {});\n",
              "        if (!dataTable) return;\n",
              "\n",
              "        const docLinkHtml = 'Like what you see? Visit the ' +\n",
              "          '<a target=\"_blank\" href=https://colab.research.google.com/notebooks/data_table.ipynb>data table notebook</a>'\n",
              "          + ' to learn more about interactive tables.';\n",
              "        element.innerHTML = '';\n",
              "        dataTable['output_type'] = 'display_data';\n",
              "        await google.colab.output.renderOutput(dataTable, element);\n",
              "        const docLink = document.createElement('div');\n",
              "        docLink.innerHTML = docLinkHtml;\n",
              "        element.appendChild(docLink);\n",
              "      }\n",
              "    </script>\n",
              "  </div>\n",
              "\n",
              "\n",
              "    <div id=\"df-ca3c868a-0a77-40db-880c-33e45902c195\">\n",
              "      <button class=\"colab-df-quickchart\" onclick=\"quickchart('df-ca3c868a-0a77-40db-880c-33e45902c195')\"\n",
              "                title=\"Suggest charts\"\n",
              "                style=\"display:none;\">\n",
              "\n",
              "<svg xmlns=\"http://www.w3.org/2000/svg\" height=\"24px\"viewBox=\"0 0 24 24\"\n",
              "     width=\"24px\">\n",
              "    <g>\n",
              "        <path d=\"M19 3H5c-1.1 0-2 .9-2 2v14c0 1.1.9 2 2 2h14c1.1 0 2-.9 2-2V5c0-1.1-.9-2-2-2zM9 17H7v-7h2v7zm4 0h-2V7h2v10zm4 0h-2v-4h2v4z\"/>\n",
              "    </g>\n",
              "</svg>\n",
              "      </button>\n",
              "\n",
              "<style>\n",
              "  .colab-df-quickchart {\n",
              "      --bg-color: #E8F0FE;\n",
              "      --fill-color: #1967D2;\n",
              "      --hover-bg-color: #E2EBFA;\n",
              "      --hover-fill-color: #174EA6;\n",
              "      --disabled-fill-color: #AAA;\n",
              "      --disabled-bg-color: #DDD;\n",
              "  }\n",
              "\n",
              "  [theme=dark] .colab-df-quickchart {\n",
              "      --bg-color: #3B4455;\n",
              "      --fill-color: #D2E3FC;\n",
              "      --hover-bg-color: #434B5C;\n",
              "      --hover-fill-color: #FFFFFF;\n",
              "      --disabled-bg-color: #3B4455;\n",
              "      --disabled-fill-color: #666;\n",
              "  }\n",
              "\n",
              "  .colab-df-quickchart {\n",
              "    background-color: var(--bg-color);\n",
              "    border: none;\n",
              "    border-radius: 50%;\n",
              "    cursor: pointer;\n",
              "    display: none;\n",
              "    fill: var(--fill-color);\n",
              "    height: 32px;\n",
              "    padding: 0;\n",
              "    width: 32px;\n",
              "  }\n",
              "\n",
              "  .colab-df-quickchart:hover {\n",
              "    background-color: var(--hover-bg-color);\n",
              "    box-shadow: 0 1px 2px rgba(60, 64, 67, 0.3), 0 1px 3px 1px rgba(60, 64, 67, 0.15);\n",
              "    fill: var(--button-hover-fill-color);\n",
              "  }\n",
              "\n",
              "  .colab-df-quickchart-complete:disabled,\n",
              "  .colab-df-quickchart-complete:disabled:hover {\n",
              "    background-color: var(--disabled-bg-color);\n",
              "    fill: var(--disabled-fill-color);\n",
              "    box-shadow: none;\n",
              "  }\n",
              "\n",
              "  .colab-df-spinner {\n",
              "    border: 2px solid var(--fill-color);\n",
              "    border-color: transparent;\n",
              "    border-bottom-color: var(--fill-color);\n",
              "    animation:\n",
              "      spin 1s steps(1) infinite;\n",
              "  }\n",
              "\n",
              "  @keyframes spin {\n",
              "    0% {\n",
              "      border-color: transparent;\n",
              "      border-bottom-color: var(--fill-color);\n",
              "      border-left-color: var(--fill-color);\n",
              "    }\n",
              "    20% {\n",
              "      border-color: transparent;\n",
              "      border-left-color: var(--fill-color);\n",
              "      border-top-color: var(--fill-color);\n",
              "    }\n",
              "    30% {\n",
              "      border-color: transparent;\n",
              "      border-left-color: var(--fill-color);\n",
              "      border-top-color: var(--fill-color);\n",
              "      border-right-color: var(--fill-color);\n",
              "    }\n",
              "    40% {\n",
              "      border-color: transparent;\n",
              "      border-right-color: var(--fill-color);\n",
              "      border-top-color: var(--fill-color);\n",
              "    }\n",
              "    60% {\n",
              "      border-color: transparent;\n",
              "      border-right-color: var(--fill-color);\n",
              "    }\n",
              "    80% {\n",
              "      border-color: transparent;\n",
              "      border-right-color: var(--fill-color);\n",
              "      border-bottom-color: var(--fill-color);\n",
              "    }\n",
              "    90% {\n",
              "      border-color: transparent;\n",
              "      border-bottom-color: var(--fill-color);\n",
              "    }\n",
              "  }\n",
              "</style>\n",
              "\n",
              "      <script>\n",
              "        async function quickchart(key) {\n",
              "          const quickchartButtonEl =\n",
              "            document.querySelector('#' + key + ' button');\n",
              "          quickchartButtonEl.disabled = true;  // To prevent multiple clicks.\n",
              "          quickchartButtonEl.classList.add('colab-df-spinner');\n",
              "          try {\n",
              "            const charts = await google.colab.kernel.invokeFunction(\n",
              "                'suggestCharts', [key], {});\n",
              "          } catch (error) {\n",
              "            console.error('Error during call to suggestCharts:', error);\n",
              "          }\n",
              "          quickchartButtonEl.classList.remove('colab-df-spinner');\n",
              "          quickchartButtonEl.classList.add('colab-df-quickchart-complete');\n",
              "        }\n",
              "        (() => {\n",
              "          let quickchartButtonEl =\n",
              "            document.querySelector('#df-ca3c868a-0a77-40db-880c-33e45902c195 button');\n",
              "          quickchartButtonEl.style.display =\n",
              "            google.colab.kernel.accessAllowed ? 'block' : 'none';\n",
              "        })();\n",
              "      </script>\n",
              "    </div>\n",
              "\n",
              "    </div>\n",
              "  </div>\n"
            ],
            "application/vnd.google.colaboratory.intrinsic+json": {
              "type": "dataframe",
              "variable_name": "df"
            }
          },
          "metadata": {},
          "execution_count": 150
        }
      ]
    },
    {
      "cell_type": "markdown",
      "source": [
        "**Гипотеза 1**."
      ],
      "metadata": {
        "id": "tjiSbGa0BctM"
      }
    },
    {
      "cell_type": "markdown",
      "source": [
        "Нулевая гипотеза H0: среднее количество краж (THEFT) в выходные дни не отличается от среднего количества краж в будние дни. Альтернативная гипотеза H1: среднее количество краж в выходные дни отличается от среднего количества краж в будние дни. На основе исследований, кражи в выходные дни совершаются чаще, чем в будни, проверим это. Для проверки зависимости между средними двух категориальных переменных используем t-тест."
      ],
      "metadata": {
        "id": "u3fLFnxQH9R0"
      }
    },
    {
      "cell_type": "code",
      "source": [
        "from scipy.stats import ttest_ind\n",
        "\n",
        "theft = df[df['Primary Type'] == 'THEFT']\n",
        "\n",
        "cnt = theft['Day_of_Week'].value_counts().sort_index()\n",
        "\n",
        "t_st, p_val = ttest_ind(cnt.loc[5:],cnt.loc[0:4])\n",
        "\n",
        "print('Среднее количество краж в выходные =',sum(cnt.loc[5:])/2)\n",
        "print('Среднее количество краж в будни = ',sum(cnt.loc[0:4])/5)\n",
        "print('p-значения =',p_val)\n",
        "print('t-статистика =',t_st)\n",
        "print('Отклоняем H0, принимаем H1') if p_val < 0.05 else print('Не отклоняем H0, не принимаем H1')"
      ],
      "metadata": {
        "colab": {
          "base_uri": "https://localhost:8080/"
        },
        "id": "3dfFYIvoQZR1",
        "outputId": "452e7e50-59f7-49c8-bfb3-c755fa8500a4"
      },
      "execution_count": null,
      "outputs": [
        {
          "output_type": "stream",
          "name": "stdout",
          "text": [
            "Среднее количество краж в выходные = 7440.0\n",
            "Среднее количество краж в будни =  8001.2\n",
            "p-значения = 0.19341649769719804\n",
            "t-статистика = -1.5019586635221644\n",
            "Не отклоняем H0, не принимаем H1\n"
          ]
        }
      ]
    },
    {
      "cell_type": "markdown",
      "source": [
        "День недели, в который происходят кражи, не имеет значительных различий в зависимости от того, является ли день выходным или будним. В нашем случае p = 0.19 - не отклоняем нулевую гипотезу. Это означает, что нет достаточных доказательств, чтобы утверждать, что средние значения различаются."
      ],
      "metadata": {
        "id": "Sh6LArpnGTzG"
      }
    },
    {
      "cell_type": "markdown",
      "source": [
        "**Гипотеза 2**."
      ],
      "metadata": {
        "id": "44rfb9AwhnFg"
      }
    },
    {
      "cell_type": "markdown",
      "source": [
        "Можно заметить связь муниципальных округов (Community Area) и широт (Latitude),чем больше значение Community Area, тем меньше значение Latitude. Нулевая гипотеза H0: нет статистически значимой корреляции между муниципальным округом и широтой. Альтернативная гипотеза H1: существует статистически значимая отрицательная корреляция.\n",
        "Для проверки значимости коэффициента корреляции используем  t-тест Пирсона, так как у нас две количественные переменные."
      ],
      "metadata": {
        "id": "LwjISGjOiy_A"
      }
    },
    {
      "cell_type": "code",
      "source": [
        "from scipy.stats import pearsonr\n",
        "\n",
        "cor, p_val = pearsonr(df['Community Area'], df['Latitude'])\n",
        "\n",
        "print('Коэффициент корреляции Пирсона =',cor)\n",
        "print('p-значения =',p_val)\n",
        "print('Отклоняем H0, принимаем H1') if p_val < 0.05 and cor<0 else print('Не отклоняем H0, не принимаем H1')"
      ],
      "metadata": {
        "colab": {
          "base_uri": "https://localhost:8080/"
        },
        "id": "t1hTdeRQhqfG",
        "outputId": "88faf8d9-76c8-4300-b26e-d3b4405c2bd4"
      },
      "execution_count": null,
      "outputs": [
        {
          "output_type": "stream",
          "name": "stdout",
          "text": [
            "Коэффициент корреляции Пирсона = -0.7411858982016424\n",
            "p-значения = 0.0\n",
            "Отклоняем H0, принимаем H1\n"
          ]
        }
      ]
    },
    {
      "cell_type": "markdown",
      "source": [
        "p-значение = 0.0, значит корреляция статистически значима и мы можем отклонить нулевую гипотезу H0, которая утверждает, что между переменными нет корреляции. В таком случаем принимаем альтернативную. Значит, отрицательная корреляция между муниципальным округом и широтой возникла не случайно и мы это проверили."
      ],
      "metadata": {
        "id": "wdAA88NrlX7n"
      }
    },
    {
      "cell_type": "code",
      "source": [
        "type_counts = df['Primary Type'].value_counts()\n",
        "print(\"Топ-5 типов преступлений:\")\n",
        "print(type_counts.head())\n",
        "\n",
        "# Сравним THEFT и BATTERY с остальными\n",
        "top_two = type_counts[['THEFT', 'BATTERY']].sum()\n",
        "others = type_counts.sum() - top_two\n",
        "print(f\"\\nTHEFT + BATTERY: {top_two} случаев\")\n",
        "print(f\"Прочие типы: {others} случаев\")\n",
        "\n",
        "# Хи-квадрат тест\n",
        "observed = [top_two, others]\n",
        "expected = [sum(observed)/2] * 2\n",
        "chi_stat, p_value = chisquare(f_obs=observed, f_exp=expected)\n",
        "print(f\"\\nChi-squared test: χ² = {chi_stat:.2f}, p = {p_value:.4f}\")\n",
        "if p_value < 0.05:\n",
        "    print(\"Принимаем H0: THEFT и BATTERY действительно преобладают.\")\n",
        "else:\n",
        "    print(\"Отклоняем H1\")"
      ],
      "metadata": {
        "id": "j04uK81SNxeN"
      },
      "execution_count": null,
      "outputs": []
    },
    {
      "cell_type": "markdown",
      "source": [
        "H0:THEFT и BATTERY встречаются значительно чаще, чем другие типы преступлений. Их доля в общем числе преступлений существенно выше, чем можно было бы ожидать при равномерном распределении.Наиболее распространёнными типами преступлений являются кражи (THEFT) и нападения (BATTERY).\n",
        "H1:Тип преступления (Primary Type) распределён равномерно или слабо отличается.\n",
        "THEFT и BATTERY не встречаются значительно чаще, чем другие типы.\n",
        "Хи-квадрат тест проверяет, насколько наблюдаемое распределение категориальных данных (в нашем случае — количество преступлений по типу) отличается от ожидаемого распределения.\n",
        "Принимаем нулевую гипотезу"
      ],
      "metadata": {
        "id": "TFY-w0yeN1at"
      }
    },
    {
      "cell_type": "code",
      "source": [
        "# сопряженность: тип и факт ареста\n",
        "contingency = pd.crosstab(df['Primary Type'], df['Arrest'])\n",
        "\n",
        "# Отдельно выделим строку по наркотикам\n",
        "narcotics_vs_arrest = contingency.loc[['NARCOTICS']].values\n",
        "other_vs_arrest = contingency.drop('NARCOTICS').sum().values\n",
        "\n",
        "# создадим таблицу 2x2\n",
        "table = pd.DataFrame(\n",
        "    [narcotics_vs_arrest[0], other_vs_arrest],\n",
        "    index=['NARCOTICS', 'Other'],\n",
        "    columns=['Not Arrested', 'Arrested']\n",
        ")\n",
        "chi2, p, dof, expected = chi2_contingency(table)\n",
        "print(\"таблица:\")\n",
        "print(table)\n",
        "print(f\"\\nChi-squared = {chi2:.2f}, p = {p:.4f}\")\n",
        "\n",
        "if p < 0.05:\n",
        "    print(\"Принимаем H0: NARCOTICS действительно чаще приводит к арестам.\")\n",
        "else:\n",
        "    print(\"Отклоняем H1\")"
      ],
      "metadata": {
        "id": "y6CY8H1DN4Tv"
      },
      "execution_count": null,
      "outputs": []
    },
    {
      "cell_type": "markdown",
      "source": [
        "H0:Вероятность ареста зависит от типа преступления, и для NARCOTICS вероятность ареста значимо выше, чем для других преступлений.\n",
        "H1:Вероятность ареста не зависит от типа преступления. Т.е. преступления, связанные с наркотиками (NARCOTICS), не чаще приводят к арестам, чем другие типы.\n",
        "\n",
        "Некоторые типы преступлений (например, наркотики — NARCOTICS) чаще приводят к арестам. Принимаем нулевую гипотезу"
      ],
      "metadata": {
        "id": "MlJoh4B6N6g-"
      }
    },
    {
      "cell_type": "code",
      "source": [
        "import pandas as pd\n",
        "from statsmodels.stats.proportion import proportions_ztest\n",
        "from scipy.stats import ttest_ind\n",
        "\n",
        "df = pd.read_csv('crive.csv')\n",
        "df['Date'] = pd.to_datetime(df['Date'], errors='coerce')\n",
        "df = df.dropna(subset=['Date'])"
      ],
      "metadata": {
        "id": "LqkMYp88GA3R"
      },
      "execution_count": 2,
      "outputs": []
    },
    {
      "cell_type": "markdown",
      "source": [
        "**Гипотеза 3**\n",
        "\n",
        "H0: Доля арестов ночью не меньше, чем днём  \n",
        "H1: Доля арестов ночью меньше, чем днём\n",
        "  \n",
        "Две независимые группы (ночь и день), бинарный исход (Arrest: да/нет) => z-тест, т.к. сравниваем доли"
      ],
      "metadata": {
        "id": "d7n79poYE1gv"
      }
    },
    {
      "cell_type": "code",
      "source": [
        "df['hour'] = df['Date'].dt.hour\n",
        "df['is_night'] = (df['hour'] >= 20) | (df['hour'] <= 5)\n",
        "df['Arrest'] = df['Arrest'].astype(bool)\n",
        "\n",
        "night = df[df['is_night']]\n",
        "day = df[~df['is_night']]\n",
        "\n",
        "count = [night['Arrest'].sum(), day['Arrest'].sum()]\n",
        "nobs = [len(night), len(day)]\n",
        "\n",
        "z_stat, p_val = proportions_ztest(count, nobs, alternative='smaller')\n",
        "\n",
        "print(f\"Доля арестов ночью: {count[0]}/{nobs[0]} = {round(count[0]/nobs[0], 4)}\")\n",
        "print(f\"Доля арестов днём: {count[1]}/{nobs[1]} = {round(count[1]/nobs[1], 4)}\")\n",
        "print(f\"Z-статистика: {z_stat}\")\n",
        "print(f\"p-значение: {p_val}\")\n",
        "if p_val < 0.05:\n",
        "  print(\"Отклоняем H0. Арестов ночью статистически меньше — гипотеза подтверждается\")\n",
        "else:\n",
        "  print(\"Не отклоняем H0. Недостаточно оснований считать, что арестов ночью меньше\")"
      ],
      "metadata": {
        "colab": {
          "base_uri": "https://localhost:8080/"
        },
        "id": "GqYLQgdZE2yA",
        "outputId": "d35d8002-de06-4431-bfa6-ffaf7074f1a1"
      },
      "execution_count": 4,
      "outputs": [
        {
          "output_type": "stream",
          "name": "stdout",
          "text": [
            "Доля арестов ночью: 11308/92600 = 0.1221\n",
            "Доля арестов днём: 16745/146958 = 0.1139\n",
            "Z-статистика: 6.057772585318114\n",
            "p-значение: 0.9999999993099034\n",
            "Не отклоняем H0. Недостаточно оснований считать, что арестов ночью меньше\n"
          ]
        }
      ]
    },
    {
      "cell_type": "markdown",
      "source": [
        "**Гипотеза 4**\n",
        "    \n",
        "H0: Среднее количество преступлений в тёплые месяцы = в холодные  \n",
        "H1: Среднее количество преступлений в тёплые месяцы > чем в холодные\n",
        "  \n",
        "Две независимые группы (тёплые и холодные месяцы), количественная переменная (число преступлений в день) => t-тест для сравнения средних (числовые)"
      ],
      "metadata": {
        "id": "6yfQiMiLFDcm"
      }
    },
    {
      "cell_type": "code",
      "source": [
        "df['month'] = df['Date'].dt.month\n",
        "df['is_warm'] = df['month'].between(4, 9)\n",
        "\n",
        "daily_counts = df.groupby([df['Date'].dt.date, 'is_warm']).size().unstack(fill_value=0)\n",
        "warm = daily_counts[True]\n",
        "cold = daily_counts[False]\n",
        "\n",
        "t_stat, p_val = ttest_ind(warm, cold, alternative='greater', equal_var=False)\n",
        "\n",
        "print(f\"Среднее количество преступлений в тёплые месяцы: {round(warm.mean(), 1)}\")\n",
        "print(f\"Среднее количество преступлений в холодные месяцы: {round(cold.mean(), 1)}\")\n",
        "print(f\"t-статистика: {t_stat}\")\n",
        "print(f\"p-значение: {p_val}\")\n",
        "if p_val < 0.05:\n",
        "  print(\"Отклоняем H0. В тёплые месяцы совершается статистически больше преступлений\")\n",
        "else:\n",
        "  print(\"Не отклоняем H0. Недостаточно оснований считать, что в тёплые месяцы преступлений больше\")"
      ],
      "metadata": {
        "colab": {
          "base_uri": "https://localhost:8080/"
        },
        "id": "JGzY4Uf9FUZT",
        "outputId": "8948395e-b96d-47f5-dd4e-569bbf3906c4"
      },
      "execution_count": 6,
      "outputs": [
        {
          "output_type": "stream",
          "name": "stdout",
          "text": [
            "Среднее количество преступлений в тёплые месяцы: 345.5\n",
            "Среднее количество преступлений в холодные месяцы: 310.8\n",
            "t-статистика: 1.3991065635571447\n",
            "p-значение: 0.08110485863591302\n",
            "Не отклоняем H0. Недостаточно оснований считать, что в тёплые месяцы преступлений больше\n"
          ]
        }
      ]
    },
    {
      "cell_type": "markdown",
      "source": [
        "**Гипотеза 5**  \n",
        "  \n",
        "H0: Среднее количество преступлений в выходные <= в будни  \n",
        "H1: Среднее количество преступлений в выходные > чем в будни\n",
        "  \n",
        "Аналогично гипотезе 4 - t-тест (сравниваем среднее количество преступлений)"
      ],
      "metadata": {
        "id": "QRlAo16IFWMc"
      }
    },
    {
      "cell_type": "code",
      "source": [
        "df['dow'] = df['Date'].dt.dayofweek\n",
        "df['is_weekend'] = df['dow'].isin([5, 6])\n",
        "\n",
        "daily_counts = df.groupby([df['Date'].dt.date, 'is_weekend']).size().unstack(fill_value=0)\n",
        "weekend = daily_counts[True]\n",
        "weekday = daily_counts[False]\n",
        "\n",
        "t_stat, p_val = ttest_ind(weekend, weekday, alternative='greater', equal_var=False)\n",
        "\n",
        "print(f\"Среднее количество преступлений в выходные: {round(weekend.mean(), 1)}\")\n",
        "print(f\"Среднее количество преступлений в будни: {round(weekday.mean(), 1)}\")\n",
        "print(f\"t-статистика: {t_stat}\")\n",
        "print(f\"p-значение: {p_val}\")\n",
        "if p_val < 0.05:\n",
        "  print(\"Отклоняем H0. В выходные совершается статистически больше преступлений\")\n",
        "else:\n",
        "  print(\"Не отклоняем H0. Недостаточно оснований считать, что в выходные преступлений больше\")"
      ],
      "metadata": {
        "colab": {
          "base_uri": "https://localhost:8080/"
        },
        "id": "A1BG28n3FV0G",
        "outputId": "e5b3bbba-dfb3-44bd-817a-d2d5065ccbf0"
      },
      "execution_count": 7,
      "outputs": [
        {
          "output_type": "stream",
          "name": "stdout",
          "text": [
            "Среднее количество преступлений в выходные: 187.4\n",
            "Среднее количество преступлений в будни: 468.9\n",
            "t-статистика: -12.482838656031557\n",
            "p-значение: 1.0\n",
            "Не отклоняем H0. Недостаточно оснований считать, что в выходные преступлений больше\n"
          ]
        }
      ]
    },
    {
      "cell_type": "markdown",
      "source": [
        "**Гипотеза 6**  \n",
        "  \n",
        "H0: Доля арестов при насильственных преступлениях <= при ненасильственных  \n",
        "H1: Доля арестов при насильственных преступлениях > при ненасильственных\n",
        "  \n",
        "Сравниваем доли арестов между двумя группами => z-тест"
      ],
      "metadata": {
        "id": "U6skp8NfFVu3"
      }
    },
    {
      "cell_type": "code",
      "source": [
        "df['Primary Type'] = df['Primary Type'].astype(str)\n",
        "df['is_violent'] = df['Primary Type'].isin(['BATTERY', 'ASSAULT', 'HOMICIDE', 'ROBBERY', 'CRIM SEXUAL ASSAULT'])\n",
        "df['Arrest'] = df['Arrest'].astype(bool)\n",
        "\n",
        "count = [df[df['is_violent']]['Arrest'].sum(), df[~df['is_violent']]['Arrest'].sum()]\n",
        "nobs = [df['is_violent'].sum(), (~df['is_violent']).sum()]\n",
        "\n",
        "z_stat, p_val = proportions_ztest(count, nobs, alternative='larger')\n",
        "\n",
        "print(f\"Доля арестов при насильственных: {count[0]}/{nobs[0]} = {round(count[0]/nobs[0], 4)}\")\n",
        "print(f\"Доля арестов при ненасильственных: {count[1]}/{nobs[1]} = {round(count[1]/nobs[1], 4)}\")\n",
        "print(f\"Z-статистика: {z_stat}\")\n",
        "print(f\"p-значение: {p_val}\")\n",
        "if p_val < 0.05:\n",
        "  print(\"Отклоняем H0. Насильственные преступления действительно чаще приводят к аресту\")\n",
        "else:\n",
        "  print(\"Не отклоняем H0. Недостаточно оснований считать, что арестов при насильственных преступлениях больше\")"
      ],
      "metadata": {
        "colab": {
          "base_uri": "https://localhost:8080/"
        },
        "id": "Ndwl8b_OFVpI",
        "outputId": "7c21688a-b999-4b60-c09c-4f087a0c2c35"
      },
      "execution_count": 8,
      "outputs": [
        {
          "output_type": "stream",
          "name": "stdout",
          "text": [
            "Доля арестов при насильственных: 8795/71450 = 0.1231\n",
            "Доля арестов при ненасильственных: 19258/168108 = 0.1146\n",
            "Z-статистика: 5.944195084267635\n",
            "p-значение: 1.389092906750476e-09\n",
            "Отклоняем H0. Насильственные преступления действительно чаще приводят к аресту\n"
          ]
        }
      ]
    },
    {
      "cell_type": "markdown",
      "source": [
        "**Гипотеза 7**  \n",
        "  \n",
        "H0: Доля арестов при домашних преступлениях <= при недомашних  \n",
        "H1: Доля арестов при домашних преступлениях > при недомашних\n",
        "  \n",
        "Аналогично прошлой гипотезе (сравнение долей в двух выборках) => z-тест"
      ],
      "metadata": {
        "id": "nIhyBTFlFVhw"
      }
    },
    {
      "cell_type": "code",
      "source": [
        "df['Domestic'] = df['Domestic'].astype(bool)\n",
        "df['Arrest'] = df['Arrest'].astype(bool)\n",
        "\n",
        "count = [df[df['Domestic']]['Arrest'].sum(), df[~df['Domestic']]['Arrest'].sum()]\n",
        "nobs = [df['Domestic'].sum(), (~df['Domestic']).sum()]\n",
        "\n",
        "z_stat, p_val = proportions_ztest(count, nobs, alternative='larger')\n",
        "\n",
        "print(f\"Доля арестов при домашних: {count[0]}/{nobs[0]} = {round(count[0]/nobs[0], 4)}\")\n",
        "print(f\"Доля арестов при недомашних: {count[1]}/{nobs[1]} = {round(count[1]/nobs[1], 4)}\")\n",
        "print(f\"Z-статистика: {z_stat}\")\n",
        "print(f\"p-значение: {p_val}\")\n",
        "if p_val < 0.05:\n",
        "  print(\"Отклоняем H0. Домашние преступления действительно чаще заканчиваются арестом\")\n",
        "else:\n",
        "  print(\"Не отклоняем H0. Недостаточно оснований считать, что арестов при домашних преступлениях больше\")"
      ],
      "metadata": {
        "colab": {
          "base_uri": "https://localhost:8080/"
        },
        "id": "uVGGeaz8FVbq",
        "outputId": "5188eb54-d9e0-41f7-a9fc-9109f489aa0b"
      },
      "execution_count": 9,
      "outputs": [
        {
          "output_type": "stream",
          "name": "stdout",
          "text": [
            "Доля арестов при домашних: 5652/44916 = 0.1258\n",
            "Доля арестов при недомашних: 22401/194642 = 0.1151\n",
            "Z-статистика: 6.384816780778471\n",
            "p-значение: 8.580140086191872e-11\n",
            "Отклоняем H0. Домашние преступления действительно чаще заканчиваются арестом\n"
          ]
        }
      ]
    }
  ]
}